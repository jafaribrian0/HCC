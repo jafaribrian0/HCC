{
 "cells": [
  {
   "cell_type": "code",
   "execution_count": 1,
   "id": "4d852244-160d-4c51-9c83-6cff0678730a",
   "metadata": {},
   "outputs": [],
   "source": [
    "import pandas as pd"
   ]
  },
  {
   "cell_type": "code",
   "execution_count": 2,
   "id": "83971232-fb26-4c68-809f-0f404d8262b4",
   "metadata": {},
   "outputs": [],
   "source": [
    "import numpy as np"
   ]
  },
  {
   "cell_type": "code",
   "execution_count": 3,
   "id": "65e8b264-1c8f-49fe-9de7-29619e5628e7",
   "metadata": {},
   "outputs": [],
   "source": [
    "import matplotlib.pyplot as plt"
   ]
  },
  {
   "cell_type": "code",
   "execution_count": 4,
   "id": "68516a38-e40d-4bed-aae3-2a3a3900f6b3",
   "metadata": {},
   "outputs": [],
   "source": [
    "import scipy.stats as stats"
   ]
  },
  {
   "cell_type": "code",
   "execution_count": 5,
   "id": "037d55fa-3e1d-40ce-bed0-af5432ab0b2a",
   "metadata": {},
   "outputs": [],
   "source": [
    "import scikit_posthocs as sp"
   ]
  },
  {
   "cell_type": "code",
   "execution_count": 6,
   "id": "5d9d4fda-91bb-4e26-94c3-0e076a5268f3",
   "metadata": {},
   "outputs": [],
   "source": [
    "def donor(df, int):\n",
    "    mask = df['DONOR_ID'] == int\n",
    "    return df[mask]"
   ]
  },
  {
   "cell_type": "code",
   "execution_count": 7,
   "id": "e7adbb22-50ea-441c-9bfd-9e08603f5ccb",
   "metadata": {},
   "outputs": [],
   "source": [
    "def get_dupes(list):\n",
    "    my_list = list\n",
    "    count_dict = {}\n",
    "    for item in my_list:\n",
    "        if item in count_dict:\n",
    "            count_dict[item] += 1\n",
    "        else:\n",
    "            count_dict[item] = 1\n",
    "    \n",
    "    duplicates = [item for item, count in count_dict.items() if count > 1]\n",
    "    return duplicates"
   ]
  },
  {
   "cell_type": "code",
   "execution_count": 8,
   "id": "a0f96807-6b65-4aed-b30d-55f5175d626a",
   "metadata": {},
   "outputs": [],
   "source": [
    "def pt(df, int):\n",
    "    mask = df['WL_ID_CODE'] == int\n",
    "    return df[mask]"
   ]
  },
  {
   "cell_type": "code",
   "execution_count": 25,
   "id": "62251fdb-9c03-4bb2-a21c-3a862871a650",
   "metadata": {},
   "outputs": [],
   "source": [
    "def get_era(date_time):\n",
    "    ts1 = pd.Timestamp(2015, 10, 8)\n",
    "    ts2 = pd.Timestamp(2019, 5, 13, 23, 59, 59)\n",
    "    ts3 = pd.Timestamp(2020, 2, 3, 23, 59, 59)\n",
    "    ts4 = pd.Timestamp(2022, 6, 27, 23, 59, 59)\n",
    "    if (date_time >= ts1) & (date_time < ts2):\n",
    "        return 1\n",
    "    elif (date_time >= ts2) & (date_time < ts3):\n",
    "        return 2\n",
    "    elif (date_time >= ts3) & (date_time < ts4):\n",
    "        return 3\n",
    "    else:\n",
    "        return None\n"
   ]
  },
  {
   "cell_type": "code",
   "execution_count": 38,
   "id": "ca17a742-e508-4016-b628-76d1f6dd623b",
   "metadata": {},
   "outputs": [],
   "source": [
    "def off_eras_var(var, df):\n",
    "    era1 = df[df['OFFER_ERA'] == 1]\n",
    "    era2 = df[df['OFFER_ERA'] == 2]\n",
    "    era3 = df[df['OFFER_ERA'] == 3]\n",
    "    df_list = [era1, era2, era3]\n",
    "    ser_list = []\n",
    "    for i, era in enumerate(df_list):\n",
    "        ser = era[var].dropna().rename('era'+str((i+1))+' - '+var).reset_index(drop=True)\n",
    "        ser_list.append(ser)\n",
    "    return pd.concat(ser_list, axis=1)"
   ]
  },
  {
   "cell_type": "code",
   "execution_count": 39,
   "id": "6c99f971-8017-4fbb-bf95-7390e50ce75c",
   "metadata": {},
   "outputs": [],
   "source": [
    "def list_eras_var(var, df):\n",
    "    era1 = df[df['LIST_ERA'] == 1]\n",
    "    era2 = df[df['LIST_ERA'] == 2]\n",
    "    era3 = df[df['LIST_ERA'] == 3]\n",
    "    df_list = [era1, era2, era3]\n",
    "    ser_list = []\n",
    "    for i, era in enumerate(df_list):\n",
    "        ser = era[var].dropna().rename('era'+str((i+1))+' - '+var).reset_index(drop=True)\n",
    "        ser_list.append(ser)\n",
    "    return pd.concat(ser_list, axis=1)"
   ]
  },
  {
   "cell_type": "code",
   "execution_count": 40,
   "id": "6688bdb8-fdd3-43ba-81bf-0ce9e88bcd90",
   "metadata": {},
   "outputs": [],
   "source": [
    "def tot_secs(x):\n",
    "   return x.total_seconds()"
   ]
  },
  {
   "cell_type": "code",
   "execution_count": 110,
   "id": "c1694de7-52fc-4387-8dd0-16ddcee93a47",
   "metadata": {},
   "outputs": [],
   "source": [
    "def kw_group(df):\n",
    "    l = []\n",
    "    for i in range(df.columns.size):\n",
    "        l.append(df.iloc[:, i].dropna().tolist())\n",
    "    return l"
   ]
  },
  {
   "cell_type": "code",
   "execution_count": 9,
   "id": "2b912e44-e330-4329-858f-9837fde7bf7a",
   "metadata": {},
   "outputs": [],
   "source": [
    "ptr = pd.read_stata('PTR_CLEAN.DTA')"
   ]
  },
  {
   "cell_type": "code",
   "execution_count": 10,
   "id": "020637e0-bd3c-4bd3-bb4d-8662cbab2b3c",
   "metadata": {},
   "outputs": [],
   "source": [
    "vars = pd.read_excel('Vars.xlsx', sheet_name='Sheet1')"
   ]
  },
  {
   "cell_type": "code",
   "execution_count": 11,
   "id": "96eab173-4980-488a-861d-4e2b4e1f6c69",
   "metadata": {},
   "outputs": [],
   "source": [
    "ld = pd.read_stata('LIVER_DATA.DTA', columns = vars['ld_cols'].dropna())"
   ]
  },
  {
   "cell_type": "code",
   "execution_count": 12,
   "id": "cde68ae2-7376-464a-94e8-2404b55c82db",
   "metadata": {},
   "outputs": [],
   "source": [
    "dd = pd.read_stata('DECEASED_DONOR_DATA.DTA', columns = vars['dd_cols'].dropna())"
   ]
  },
  {
   "cell_type": "code",
   "execution_count": 13,
   "id": "aa34d76a-893d-40d6-b3ba-e5b3a1ac4604",
   "metadata": {},
   "outputs": [],
   "source": [
    "ld.rename(columns = {'DONOR_ID':'LD_DONOR_ID', 'LISTING_CTR_CODE' : 'LD_LISTING_CTR_CODE'}, inplace=True)"
   ]
  },
  {
   "cell_type": "code",
   "execution_count": 14,
   "id": "b1ad72b9-cefd-4ff9-b21e-5a9d147a2fe4",
   "metadata": {},
   "outputs": [],
   "source": [
    "dd.rename(columns =  {'OPO_CTR_CODE' : 'DD_OPO_CTR_CODE'}, inplace=True)"
   ]
  },
  {
   "cell_type": "code",
   "execution_count": 15,
   "id": "19f269ea-b579-41d5-b47c-c1f03a8192a1",
   "metadata": {},
   "outputs": [],
   "source": [
    "for col in ld.columns:\n",
    "    if col in dd.columns.tolist():\n",
    "        dd.rename(columns={col: 'DD_'+col}, inplace=True)\n",
    "    else:\n",
    "        pass"
   ]
  },
  {
   "cell_type": "code",
   "execution_count": 16,
   "id": "37611af3-b275-4625-8b32-e54339ceac74",
   "metadata": {},
   "outputs": [],
   "source": [
    "dict = {}\n",
    "for i in range(ld.shape[0]):\n",
    "    if ld.iloc[i]['HCC_DIAG'] == 'Y':\n",
    "        dict[i] = 1\n",
    "    elif ld.iloc[i]['HCC_DIAGNOSIS_TCR'] == 'Y':\n",
    "        dict[i] = 1\n",
    "    else:\n",
    "        dict[i] = 0\n",
    "ser = pd.Series(dict, name='HCC')"
   ]
  },
  {
   "cell_type": "code",
   "execution_count": 17,
   "id": "bd708717-e772-4194-b39c-e736cd2cdeef",
   "metadata": {},
   "outputs": [],
   "source": [
    "ld = pd.concat([ld, ser], axis=1)"
   ]
  },
  {
   "cell_type": "code",
   "execution_count": 18,
   "id": "0a8534fd-aa80-4cf5-b848-4e7a97718416",
   "metadata": {},
   "outputs": [],
   "source": [
    "dict = {}"
   ]
  },
  {
   "cell_type": "code",
   "execution_count": 19,
   "id": "2998faaf-fe1d-4dd5-8bc3-8497c9ecc049",
   "metadata": {},
   "outputs": [],
   "source": [
    "for i in range(ld.shape[0]):\n",
    "    if ld.iloc[i]['DIAG'] == 4403 :\n",
    "        dict[i] = 1\n",
    "    elif ld.iloc[i]['DIAG'] == 4420:\n",
    "        dict[i] = 1\n",
    "    else:\n",
    "        dict[i] = 0"
   ]
  },
  {
   "cell_type": "code",
   "execution_count": 20,
   "id": "f79f951b-5cae-4745-8d9d-a0c662a2b0ca",
   "metadata": {},
   "outputs": [],
   "source": [
    "ser1 = pd.Series(dict, name='CHOL')"
   ]
  },
  {
   "cell_type": "code",
   "execution_count": 21,
   "id": "217974a0-7815-4409-92bc-d76882fb0a68",
   "metadata": {},
   "outputs": [],
   "source": [
    "ld = pd.concat([ld, ser1], axis=1)"
   ]
  },
  {
   "cell_type": "code",
   "execution_count": 22,
   "id": "5a3a465d-e2e2-4723-bb18-c0522a31f3ae",
   "metadata": {},
   "outputs": [],
   "source": [
    "ptr.rename(columns={'wl_id_code':'WL_ID_CODE'}, inplace=True)"
   ]
  },
  {
   "cell_type": "code",
   "execution_count": 23,
   "id": "3437a64d-4f08-46ab-895b-0f0e83e0f2e8",
   "metadata": {},
   "outputs": [],
   "source": [
    "df = ptr.merge(ld, how='left', on='WL_ID_CODE')"
   ]
  },
  {
   "cell_type": "code",
   "execution_count": 24,
   "id": "eb9f50f9-f92b-4f3a-ac7a-fe6bb860da87",
   "metadata": {},
   "outputs": [],
   "source": [
    "df = df.merge(dd, how='left', on='DONOR_ID')"
   ]
  },
  {
   "cell_type": "code",
   "execution_count": 26,
   "id": "b50f3bfe-87d0-4533-ba6a-28bcfda905c5",
   "metadata": {},
   "outputs": [],
   "source": [
    "#build offer + listing era"
   ]
  },
  {
   "cell_type": "code",
   "execution_count": 27,
   "id": "e940b405-f0c7-4b4f-baf0-ba1e29423b02",
   "metadata": {},
   "outputs": [],
   "source": [
    "list_era_dict = {}\n",
    "offer_era_dict = {}\n",
    "for i in range(df.shape[0]):\n",
    "    offer = df.iloc[i]\n",
    "    lt = offer['INIT_DATE']\n",
    "    ot = offer['MATCH_DATE_TIME']\n",
    "    list_era_dict[i] = get_era(lt)\n",
    "    offer_era_dict[i] = get_era(ot)\n",
    "    "
   ]
  },
  {
   "cell_type": "code",
   "execution_count": 28,
   "id": "d1820c8f-7d0d-4a26-8a57-8bd21f50fc9d",
   "metadata": {},
   "outputs": [],
   "source": [
    "ser1 = pd.Series(list_era_dict, name='LIST_ERA')\n",
    "ser2 = pd.Series(offer_era_dict, name='OFFER_ERA')\n",
    "mdf = pd.concat([ser1, ser2, df], axis=1)"
   ]
  },
  {
   "cell_type": "code",
   "execution_count": 31,
   "id": "58e43ee9-bb52-4504-afa8-26f983d5e5b4",
   "metadata": {},
   "outputs": [],
   "source": [
    "mdf = mdf[mdf['INIT_DATE'] >= ts1]"
   ]
  },
  {
   "cell_type": "code",
   "execution_count": 32,
   "id": "3d082500-549c-483c-971a-90e90efa8088",
   "metadata": {},
   "outputs": [],
   "source": [
    "mdf.to_stata('mdf.DTA')"
   ]
  },
  {
   "cell_type": "code",
   "execution_count": 33,
   "id": "3af588a4-2054-4505-a957-05f1dae76a12",
   "metadata": {},
   "outputs": [],
   "source": [
    "hcc = mdf[mdf['HCC'] == 1]"
   ]
  },
  {
   "cell_type": "code",
   "execution_count": 34,
   "id": "08e43e7a-a272-44a8-9cfd-20cfdd8898cf",
   "metadata": {},
   "outputs": [],
   "source": [
    "chol = mdf[mdf['CHOL'] == 1]"
   ]
  },
  {
   "cell_type": "code",
   "execution_count": 63,
   "id": "3ff13f27-62cb-4d19-afae-bcd22488fa04",
   "metadata": {},
   "outputs": [],
   "source": [
    "ts1 = pd.Timestamp(2015, 10, 8)\n",
    "ts2 = pd.Timestamp(2019, 5, 13, 23, 59, 59)\n",
    "ts3 = pd.Timestamp(2020, 2, 3, 23, 59, 59)\n",
    "ts4 = pd.Timestamp(2022, 6, 27, 23, 59, 59)"
   ]
  },
  {
   "cell_type": "markdown",
   "id": "36f1e5a5-92f7-4770-a19b-256d5c340e62",
   "metadata": {},
   "source": [
    "***"
   ]
  },
  {
   "cell_type": "markdown",
   "id": "29510c03-2253-4a00-840b-683736fc8623",
   "metadata": {},
   "source": [
    "# **START HERE**"
   ]
  },
  {
   "cell_type": "markdown",
   "id": "340c1c56-0370-4d28-b0f5-facca9f7458a",
   "metadata": {},
   "source": [
    "***"
   ]
  },
  {
   "cell_type": "code",
   "execution_count": 35,
   "id": "d0ad90af-0971-4081-894a-2ff0a1e0efe8",
   "metadata": {},
   "outputs": [],
   "source": [
    "#Calculate times to accepted offer + time to first offer for HCC\n",
    "dict = {'TIME_TO_ACCEPT' : [],\n",
    "         'TIME_TO_FIRST' : [],\n",
    "         'WL_ID_CODE' : []}\n",
    "for id in hcc['WL_ID_CODE'].unique().tolist():\n",
    "    pat = pt(hcc, id)\n",
    "    fot = pat['MATCH_DATE_TIME'].min()\n",
    "    ttfo = fot - pat['INIT_DATE'].iloc[0]\n",
    "    dict['WL_ID_CODE'].append(id)\n",
    "    dict['TIME_TO_FIRST'].append(ttfo)\n",
    "    try:\n",
    "        oat = pat[pat['OFFER_ACCEPT'] == 'Y']['FINAL_RESPONSE_DATE_TIME'].iloc[0]\n",
    "        ttoa = oat - pat['INIT_DATE'].iloc[0]\n",
    "        dict['TIME_TO_ACCEPT'].append(ttoa)\n",
    "    except IndexError:\n",
    "        dict['TIME_TO_ACCEPT'].append(None) \n",
    "        pass\n",
    "times = pd.DataFrame(dict)    \n",
    "hcc = hcc.merge(times, how='left', on='WL_ID_CODE')"
   ]
  },
  {
   "cell_type": "code",
   "execution_count": 36,
   "id": "e1335973-1760-4cda-8c99-2f428d9367e8",
   "metadata": {},
   "outputs": [],
   "source": [
    "#Calculate times to accepted offer + time to first offer for cholangio\n",
    "dict = {'TIME_TO_ACCEPT' : [],\n",
    "         'TIME_TO_FIRST' : [],\n",
    "         'WL_ID_CODE' : []}\n",
    "for id in chol['WL_ID_CODE'].unique().tolist():\n",
    "    pat = pt(chol, id)\n",
    "    fot = pat['MATCH_DATE_TIME'].min()\n",
    "    ttfo = fot - pat['INIT_DATE'].iloc[0]\n",
    "    dict['WL_ID_CODE'].append(id)\n",
    "    dict['TIME_TO_FIRST'].append(ttfo)\n",
    "    try:\n",
    "        oat = pat[pat['OFFER_ACCEPT'] == 'Y']['FINAL_RESPONSE_DATE_TIME'].iloc[0]\n",
    "        ttoa = oat - pat['INIT_DATE'].iloc[0]\n",
    "        dict['TIME_TO_ACCEPT'].append(ttoa)\n",
    "    except IndexError:\n",
    "        dict['TIME_TO_ACCEPT'].append(None) \n",
    "        pass\n",
    "times = pd.DataFrame(dict)\n",
    "chol = chol.merge(times, how='left', on='WL_ID_CODE')"
   ]
  },
  {
   "cell_type": "code",
   "execution_count": 37,
   "id": "d609b578-b28a-4446-8e8a-34aace82ab6a",
   "metadata": {},
   "outputs": [],
   "source": [
    "ao_hcc = hcc[hcc['OFFER_ACCEPT'] == 'Y']"
   ]
  },
  {
   "cell_type": "code",
   "execution_count": 99,
   "id": "9c5d0a60-6a6a-44e8-939f-21ba8cc8c5ea",
   "metadata": {},
   "outputs": [],
   "source": [
    "ao_chol = chol[chol['OFFER_ACCEPT'] == 'Y']"
   ]
  },
  {
   "cell_type": "code",
   "execution_count": 88,
   "id": "86376a61-32eb-4767-bed7-2964c27633c6",
   "metadata": {},
   "outputs": [],
   "source": [
    "hcc_seconds = hcc"
   ]
  },
  {
   "cell_type": "code",
   "execution_count": 93,
   "id": "40767062-c5fe-4a10-8d1a-ba1d26b2623f",
   "metadata": {},
   "outputs": [],
   "source": [
    "hcc_seconds['TIME_TO_ACCEPT'] = hcc_seconds['TIME_TO_ACCEPT'].map(tot_secs)"
   ]
  },
  {
   "cell_type": "code",
   "execution_count": 94,
   "id": "12e4c932-6880-40cf-9c5b-bf1fd4541d30",
   "metadata": {},
   "outputs": [],
   "source": [
    "hcc_seconds['TIME_TO_FIRST'] = hcc_seconds['TIME_TO_FIRST'].map(tot_secs)"
   ]
  },
  {
   "cell_type": "code",
   "execution_count": 41,
   "id": "d0733755-8dae-409f-9a18-51d033c50cf3",
   "metadata": {},
   "outputs": [],
   "source": [
    "TTA = off_eras_var('TIME_TO_ACCEPT', ao_hcc)"
   ]
  },
  {
   "cell_type": "code",
   "execution_count": 42,
   "id": "4b098b31-9846-4627-bed3-2c62e336e61b",
   "metadata": {},
   "outputs": [],
   "source": [
    "TTF = off_eras_var('TIME_TO_FIRST', ao_hcc)"
   ]
  },
  {
   "cell_type": "code",
   "execution_count": 100,
   "id": "40f033e3-352c-4a4c-bce6-b61f9d4157f4",
   "metadata": {},
   "outputs": [],
   "source": [
    "SEQ = off_eras_var('PTR_SEQUENCE_NUM', hcc)"
   ]
  },
  {
   "cell_type": "code",
   "execution_count": 46,
   "id": "c73b4dca-5d24-4c3d-a580-2e9f9cce6592",
   "metadata": {},
   "outputs": [],
   "source": [
    "TTA_secs = TTA.map(tot_secs)"
   ]
  },
  {
   "cell_type": "code",
   "execution_count": 47,
   "id": "bafc63e7-553f-4c56-93e7-94f5d9f9a7f8",
   "metadata": {},
   "outputs": [],
   "source": [
    "TTF_secs = TTF.map(tot_secs)"
   ]
  },
  {
   "cell_type": "markdown",
   "id": "795506b2-56a5-4455-9779-3b92d40fda59",
   "metadata": {},
   "source": [
    "## **Statistical tests**\n",
    "-Kruskal-Wallis (3 IV ANOVA)<br>\n",
    "-Post-hoc Dunn, , 'bonferroni' adjustment\n"
   ]
  },
  {
   "cell_type": "code",
   "execution_count": 57,
   "id": "da2caf85-3c3c-4d5e-be74-033eb493227e",
   "metadata": {},
   "outputs": [],
   "source": [
    "group1 = TTF_secs.iloc[:, 0].dropna().tolist()\n",
    "group2 = TTF_secs.iloc[:, 1].dropna().tolist()\n",
    "group3 = TTF_secs.iloc[:, 2].dropna().tolist()"
   ]
  },
  {
   "cell_type": "code",
   "execution_count": 123,
   "id": "bd4bf763-d49f-4450-ad82-61539e190b06",
   "metadata": {},
   "outputs": [],
   "source": [
    "kr1 = stats.kruskal(kw_group(TTA_secs)[0], kw_group(TTA_secs)[1], kw_group(TTA_secs)[2])"
   ]
  },
  {
   "cell_type": "code",
   "execution_count": null,
   "id": "146f9c64-af95-4d80-91b0-d60db3a8ea15",
   "metadata": {},
   "outputs": [],
   "source": [
    "#Time to accept"
   ]
  },
  {
   "cell_type": "code",
   "execution_count": 124,
   "id": "7fec9c41-408a-4613-8389-244119a57293",
   "metadata": {},
   "outputs": [
    {
     "data": {
      "text/plain": [
       "KruskalResult(statistic=50.98670336386359, pvalue=8.47965219308899e-12)"
      ]
     },
     "execution_count": 124,
     "metadata": {},
     "output_type": "execute_result"
    }
   ],
   "source": [
    "kr1"
   ]
  },
  {
   "cell_type": "code",
   "execution_count": 121,
   "id": "eceb4bfe-eeef-4dd6-ac7f-ccbb69fbb1a3",
   "metadata": {},
   "outputs": [],
   "source": [
    "kr2 = stats.kruskal(kw_group(TTF_secs)[0], kw_group(TTF_secs)[1], kw_group(TTF_secs)[2])"
   ]
  },
  {
   "cell_type": "code",
   "execution_count": null,
   "id": "05cb48ca-d4a9-4126-9907-2d06ce465b20",
   "metadata": {},
   "outputs": [],
   "source": [
    "#Time to first"
   ]
  },
  {
   "cell_type": "code",
   "execution_count": 122,
   "id": "acbe7105-2c28-47a0-a49a-ab0ba05b48ac",
   "metadata": {},
   "outputs": [
    {
     "data": {
      "text/plain": [
       "KruskalResult(statistic=329.40965438032055, pvalue=2.948508665514453e-72)"
      ]
     },
     "execution_count": 122,
     "metadata": {},
     "output_type": "execute_result"
    }
   ],
   "source": [
    "kr2"
   ]
  },
  {
   "cell_type": "code",
   "execution_count": 115,
   "id": "2f64339a-c4e5-454b-97f7-065c21f5df54",
   "metadata": {},
   "outputs": [],
   "source": [
    "kr3 = stats.kruskal(kw_group(SEQ)[0], kw_group(SEQ)[1], kw_group(SEQ)[2])"
   ]
  },
  {
   "cell_type": "code",
   "execution_count": null,
   "id": "78c77557-680e-4ca8-aaac-88f32b566765",
   "metadata": {},
   "outputs": [],
   "source": [
    "#PTR Sequence Num"
   ]
  },
  {
   "cell_type": "code",
   "execution_count": 120,
   "id": "b2616825-d91d-41a0-a933-016ee46b7ead",
   "metadata": {},
   "outputs": [
    {
     "data": {
      "text/plain": [
       "KruskalResult(statistic=8459.542894272836, pvalue=0.0)"
      ]
     },
     "execution_count": 120,
     "metadata": {},
     "output_type": "execute_result"
    }
   ],
   "source": [
    "kr3"
   ]
  },
  {
   "cell_type": "code",
   "execution_count": 126,
   "id": "aa58f916-057c-401b-91ac-efd54fb8d72d",
   "metadata": {},
   "outputs": [],
   "source": [
    "ao_hcc.reset_index(drop=True, inplace=True)"
   ]
  },
  {
   "cell_type": "code",
   "execution_count": 127,
   "id": "d3236dd8-176f-44c5-9402-539a335f34ae",
   "metadata": {},
   "outputs": [],
   "source": [
    "ao_hcc = ao_hcc[ao_hcc['OFFER_ERA'].notna()]"
   ]
  },
  {
   "cell_type": "code",
   "execution_count": 163,
   "id": "f075026d-0bc1-4049-a2ef-79d3b9217753",
   "metadata": {},
   "outputs": [],
   "source": [
    "post_hoc_TTA = sp.posthoc_dunn(ao_hcc, val_col='TIME_TO_ACCEPT', group_col='OFFER_ERA', p_adjust = 'bonferroni')"
   ]
  },
  {
   "cell_type": "code",
   "execution_count": 161,
   "id": "ecd9536d-01f5-484b-9476-c3b39e65feb6",
   "metadata": {},
   "outputs": [],
   "source": [
    "post_hoc_TTF = sp.posthoc_dunn(ao_hcc, val_col='TIME_TO_FIRST', group_col='OFFER_ERA', p_adjust = 'bonferroni')"
   ]
  },
  {
   "cell_type": "code",
   "execution_count": 162,
   "id": "e6fa4b3b-81e8-4d5c-820a-a7cb433723b8",
   "metadata": {},
   "outputs": [],
   "source": [
    "post_hoc_SEQ = sp.posthoc_dunn(hcc[hcc['OFFER_ERA'].notna()], val_col='PTR_SEQUENCE_NUM', group_col='OFFER_ERA', p_adjust = 'bonferroni')"
   ]
  },
  {
   "cell_type": "markdown",
   "id": "e111b005-9475-4da1-a0e0-22e42c6a31ac",
   "metadata": {},
   "source": [
    "***"
   ]
  },
  {
   "cell_type": "markdown",
   "id": "cab57f22-5618-4166-b03d-6e7702922788",
   "metadata": {},
   "source": [
    "#  Tables"
   ]
  },
  {
   "cell_type": "code",
   "execution_count": null,
   "id": "7e0bb45a-c3d5-4117-8982-26e0a58f1e54",
   "metadata": {},
   "outputs": [],
   "source": [
    "#Time to Accept - Post Hoc dunn test"
   ]
  },
  {
   "cell_type": "code",
   "execution_count": 164,
   "id": "05d4a638-3eaf-4f55-835b-12746b851ad1",
   "metadata": {},
   "outputs": [
    {
     "data": {
      "text/html": [
       "<div>\n",
       "<style scoped>\n",
       "    .dataframe tbody tr th:only-of-type {\n",
       "        vertical-align: middle;\n",
       "    }\n",
       "\n",
       "    .dataframe tbody tr th {\n",
       "        vertical-align: top;\n",
       "    }\n",
       "\n",
       "    .dataframe thead th {\n",
       "        text-align: right;\n",
       "    }\n",
       "</style>\n",
       "<table border=\"1\" class=\"dataframe\">\n",
       "  <thead>\n",
       "    <tr style=\"text-align: right;\">\n",
       "      <th></th>\n",
       "      <th>1.0</th>\n",
       "      <th>2.0</th>\n",
       "      <th>3.0</th>\n",
       "    </tr>\n",
       "  </thead>\n",
       "  <tbody>\n",
       "    <tr>\n",
       "      <th>1.0</th>\n",
       "      <td>1.000000e+00</td>\n",
       "      <td>2.604712e-08</td>\n",
       "      <td>5.553105e-08</td>\n",
       "    </tr>\n",
       "    <tr>\n",
       "      <th>2.0</th>\n",
       "      <td>2.604712e-08</td>\n",
       "      <td>1.000000e+00</td>\n",
       "      <td>1.806774e-01</td>\n",
       "    </tr>\n",
       "    <tr>\n",
       "      <th>3.0</th>\n",
       "      <td>5.553105e-08</td>\n",
       "      <td>1.806774e-01</td>\n",
       "      <td>1.000000e+00</td>\n",
       "    </tr>\n",
       "  </tbody>\n",
       "</table>\n",
       "</div>"
      ],
      "text/plain": [
       "              1.0           2.0           3.0\n",
       "1.0  1.000000e+00  2.604712e-08  5.553105e-08\n",
       "2.0  2.604712e-08  1.000000e+00  1.806774e-01\n",
       "3.0  5.553105e-08  1.806774e-01  1.000000e+00"
      ]
     },
     "execution_count": 164,
     "metadata": {},
     "output_type": "execute_result"
    }
   ],
   "source": [
    "post_hoc_TTA"
   ]
  },
  {
   "cell_type": "code",
   "execution_count": 165,
   "id": "c34eb4af-00bd-4278-8f21-4a4aeb1fc195",
   "metadata": {},
   "outputs": [],
   "source": [
    "#Time to First - Post Hoc dunn test"
   ]
  },
  {
   "cell_type": "code",
   "execution_count": 166,
   "id": "35cb47d7-4d3c-450b-b6be-35f85eca6188",
   "metadata": {},
   "outputs": [
    {
     "data": {
      "text/html": [
       "<div>\n",
       "<style scoped>\n",
       "    .dataframe tbody tr th:only-of-type {\n",
       "        vertical-align: middle;\n",
       "    }\n",
       "\n",
       "    .dataframe tbody tr th {\n",
       "        vertical-align: top;\n",
       "    }\n",
       "\n",
       "    .dataframe thead th {\n",
       "        text-align: right;\n",
       "    }\n",
       "</style>\n",
       "<table border=\"1\" class=\"dataframe\">\n",
       "  <thead>\n",
       "    <tr style=\"text-align: right;\">\n",
       "      <th></th>\n",
       "      <th>1.0</th>\n",
       "      <th>2.0</th>\n",
       "      <th>3.0</th>\n",
       "    </tr>\n",
       "  </thead>\n",
       "  <tbody>\n",
       "    <tr>\n",
       "      <th>1.0</th>\n",
       "      <td>1.000000e+00</td>\n",
       "      <td>1.000000e+00</td>\n",
       "      <td>3.984522e-68</td>\n",
       "    </tr>\n",
       "    <tr>\n",
       "      <th>2.0</th>\n",
       "      <td>1.000000e+00</td>\n",
       "      <td>1.000000e+00</td>\n",
       "      <td>1.290536e-28</td>\n",
       "    </tr>\n",
       "    <tr>\n",
       "      <th>3.0</th>\n",
       "      <td>3.984522e-68</td>\n",
       "      <td>1.290536e-28</td>\n",
       "      <td>1.000000e+00</td>\n",
       "    </tr>\n",
       "  </tbody>\n",
       "</table>\n",
       "</div>"
      ],
      "text/plain": [
       "              1.0           2.0           3.0\n",
       "1.0  1.000000e+00  1.000000e+00  3.984522e-68\n",
       "2.0  1.000000e+00  1.000000e+00  1.290536e-28\n",
       "3.0  3.984522e-68  1.290536e-28  1.000000e+00"
      ]
     },
     "execution_count": 166,
     "metadata": {},
     "output_type": "execute_result"
    }
   ],
   "source": [
    "post_hoc_TTF"
   ]
  },
  {
   "cell_type": "code",
   "execution_count": 167,
   "id": "89960981-140b-439d-9cf6-1552b28b7119",
   "metadata": {},
   "outputs": [],
   "source": [
    "#PTR_SEQUENCE_NUM - Post Hoc dunn test"
   ]
  },
  {
   "cell_type": "code",
   "execution_count": 168,
   "id": "0e645e87-1621-4862-a81d-efaca0d9dace",
   "metadata": {},
   "outputs": [
    {
     "data": {
      "text/html": [
       "<div>\n",
       "<style scoped>\n",
       "    .dataframe tbody tr th:only-of-type {\n",
       "        vertical-align: middle;\n",
       "    }\n",
       "\n",
       "    .dataframe tbody tr th {\n",
       "        vertical-align: top;\n",
       "    }\n",
       "\n",
       "    .dataframe thead th {\n",
       "        text-align: right;\n",
       "    }\n",
       "</style>\n",
       "<table border=\"1\" class=\"dataframe\">\n",
       "  <thead>\n",
       "    <tr style=\"text-align: right;\">\n",
       "      <th></th>\n",
       "      <th>1.0</th>\n",
       "      <th>2.0</th>\n",
       "      <th>3.0</th>\n",
       "    </tr>\n",
       "  </thead>\n",
       "  <tbody>\n",
       "    <tr>\n",
       "      <th>1.0</th>\n",
       "      <td>1.000000e+00</td>\n",
       "      <td>3.147908e-85</td>\n",
       "      <td>0.0</td>\n",
       "    </tr>\n",
       "    <tr>\n",
       "      <th>2.0</th>\n",
       "      <td>3.147908e-85</td>\n",
       "      <td>1.000000e+00</td>\n",
       "      <td>0.0</td>\n",
       "    </tr>\n",
       "    <tr>\n",
       "      <th>3.0</th>\n",
       "      <td>0.000000e+00</td>\n",
       "      <td>0.000000e+00</td>\n",
       "      <td>1.0</td>\n",
       "    </tr>\n",
       "  </tbody>\n",
       "</table>\n",
       "</div>"
      ],
      "text/plain": [
       "              1.0           2.0  3.0\n",
       "1.0  1.000000e+00  3.147908e-85  0.0\n",
       "2.0  3.147908e-85  1.000000e+00  0.0\n",
       "3.0  0.000000e+00  0.000000e+00  1.0"
      ]
     },
     "execution_count": 168,
     "metadata": {},
     "output_type": "execute_result"
    }
   ],
   "source": [
    "post_hoc_SEQ"
   ]
  },
  {
   "cell_type": "code",
   "execution_count": 151,
   "id": "3df1cb77-97e6-42d0-b517-12b49e250a0d",
   "metadata": {},
   "outputs": [
    {
     "data": {
      "text/html": [
       "<div>\n",
       "<style scoped>\n",
       "    .dataframe tbody tr th:only-of-type {\n",
       "        vertical-align: middle;\n",
       "    }\n",
       "\n",
       "    .dataframe tbody tr th {\n",
       "        vertical-align: top;\n",
       "    }\n",
       "\n",
       "    .dataframe thead th {\n",
       "        text-align: right;\n",
       "    }\n",
       "</style>\n",
       "<table border=\"1\" class=\"dataframe\">\n",
       "  <thead>\n",
       "    <tr style=\"text-align: right;\">\n",
       "      <th></th>\n",
       "      <th>era1 - PTR_SEQUENCE_NUM</th>\n",
       "      <th>era2 - PTR_SEQUENCE_NUM</th>\n",
       "      <th>era3 - PTR_SEQUENCE_NUM</th>\n",
       "    </tr>\n",
       "  </thead>\n",
       "  <tbody>\n",
       "    <tr>\n",
       "      <th>count</th>\n",
       "      <td>153482.000000</td>\n",
       "      <td>39026.000000</td>\n",
       "      <td>244637.000000</td>\n",
       "    </tr>\n",
       "    <tr>\n",
       "      <th>mean</th>\n",
       "      <td>605.286209</td>\n",
       "      <td>353.135858</td>\n",
       "      <td>630.812972</td>\n",
       "    </tr>\n",
       "    <tr>\n",
       "      <th>std</th>\n",
       "      <td>1307.704351</td>\n",
       "      <td>850.095030</td>\n",
       "      <td>1108.768717</td>\n",
       "    </tr>\n",
       "    <tr>\n",
       "      <th>min</th>\n",
       "      <td>1.000000</td>\n",
       "      <td>1.000000</td>\n",
       "      <td>1.000000</td>\n",
       "    </tr>\n",
       "    <tr>\n",
       "      <th>25%</th>\n",
       "      <td>17.000000</td>\n",
       "      <td>18.000000</td>\n",
       "      <td>35.000000</td>\n",
       "    </tr>\n",
       "    <tr>\n",
       "      <th>50%</th>\n",
       "      <td>71.000000</td>\n",
       "      <td>60.000000</td>\n",
       "      <td>124.000000</td>\n",
       "    </tr>\n",
       "    <tr>\n",
       "      <th>75%</th>\n",
       "      <td>364.750000</td>\n",
       "      <td>227.000000</td>\n",
       "      <td>562.000000</td>\n",
       "    </tr>\n",
       "    <tr>\n",
       "      <th>max</th>\n",
       "      <td>9928.000000</td>\n",
       "      <td>9353.000000</td>\n",
       "      <td>7987.000000</td>\n",
       "    </tr>\n",
       "  </tbody>\n",
       "</table>\n",
       "</div>"
      ],
      "text/plain": [
       "       era1 - PTR_SEQUENCE_NUM  era2 - PTR_SEQUENCE_NUM  \\\n",
       "count            153482.000000             39026.000000   \n",
       "mean                605.286209               353.135858   \n",
       "std                1307.704351               850.095030   \n",
       "min                   1.000000                 1.000000   \n",
       "25%                  17.000000                18.000000   \n",
       "50%                  71.000000                60.000000   \n",
       "75%                 364.750000               227.000000   \n",
       "max                9928.000000              9353.000000   \n",
       "\n",
       "       era3 - PTR_SEQUENCE_NUM  \n",
       "count            244637.000000  \n",
       "mean                630.812972  \n",
       "std                1108.768717  \n",
       "min                   1.000000  \n",
       "25%                  35.000000  \n",
       "50%                 124.000000  \n",
       "75%                 562.000000  \n",
       "max                7987.000000  "
      ]
     },
     "execution_count": 151,
     "metadata": {},
     "output_type": "execute_result"
    }
   ],
   "source": [
    "SEQ.describe()"
   ]
  },
  {
   "cell_type": "code",
   "execution_count": 152,
   "id": "c8078a48-50f7-4153-93f1-2f06fdfa19db",
   "metadata": {},
   "outputs": [
    {
     "data": {
      "text/html": [
       "<div>\n",
       "<style scoped>\n",
       "    .dataframe tbody tr th:only-of-type {\n",
       "        vertical-align: middle;\n",
       "    }\n",
       "\n",
       "    .dataframe tbody tr th {\n",
       "        vertical-align: top;\n",
       "    }\n",
       "\n",
       "    .dataframe thead th {\n",
       "        text-align: right;\n",
       "    }\n",
       "</style>\n",
       "<table border=\"1\" class=\"dataframe\">\n",
       "  <thead>\n",
       "    <tr style=\"text-align: right;\">\n",
       "      <th></th>\n",
       "      <th>era1 - TIME_TO_FIRST</th>\n",
       "      <th>era2 - TIME_TO_FIRST</th>\n",
       "      <th>era3 - TIME_TO_FIRST</th>\n",
       "    </tr>\n",
       "  </thead>\n",
       "  <tbody>\n",
       "    <tr>\n",
       "      <th>count</th>\n",
       "      <td>6301</td>\n",
       "      <td>1404</td>\n",
       "      <td>4216</td>\n",
       "    </tr>\n",
       "    <tr>\n",
       "      <th>mean</th>\n",
       "      <td>63 days 15:26:11.735756229</td>\n",
       "      <td>64 days 15:24:16.465811966</td>\n",
       "      <td>46 days 17:24:24.718453510</td>\n",
       "    </tr>\n",
       "    <tr>\n",
       "      <th>std</th>\n",
       "      <td>77 days 22:02:52.453680940</td>\n",
       "      <td>88 days 19:39:29.481551957</td>\n",
       "      <td>86 days 22:47:30.603115715</td>\n",
       "    </tr>\n",
       "    <tr>\n",
       "      <th>min</th>\n",
       "      <td>0 days 06:14:20</td>\n",
       "      <td>0 days 12:30:06</td>\n",
       "      <td>0 days 09:38:05</td>\n",
       "    </tr>\n",
       "    <tr>\n",
       "      <th>25%</th>\n",
       "      <td>7 days 18:33:43</td>\n",
       "      <td>7 days 22:37:29.750000</td>\n",
       "      <td>3 days 19:56:38.500000</td>\n",
       "    </tr>\n",
       "    <tr>\n",
       "      <th>50%</th>\n",
       "      <td>29 days 09:17:14</td>\n",
       "      <td>28 days 21:41:53</td>\n",
       "      <td>14 days 11:17:20</td>\n",
       "    </tr>\n",
       "    <tr>\n",
       "      <th>75%</th>\n",
       "      <td>92 days 02:37:52</td>\n",
       "      <td>88 days 05:03:02.500000</td>\n",
       "      <td>48 days 16:50:04.250000</td>\n",
       "    </tr>\n",
       "    <tr>\n",
       "      <th>max</th>\n",
       "      <td>682 days 19:46:40</td>\n",
       "      <td>1027 days 08:22:00</td>\n",
       "      <td>1438 days 05:14:42</td>\n",
       "    </tr>\n",
       "  </tbody>\n",
       "</table>\n",
       "</div>"
      ],
      "text/plain": [
       "             era1 - TIME_TO_FIRST        era2 - TIME_TO_FIRST  \\\n",
       "count                        6301                        1404   \n",
       "mean   63 days 15:26:11.735756229  64 days 15:24:16.465811966   \n",
       "std    77 days 22:02:52.453680940  88 days 19:39:29.481551957   \n",
       "min               0 days 06:14:20             0 days 12:30:06   \n",
       "25%               7 days 18:33:43      7 days 22:37:29.750000   \n",
       "50%              29 days 09:17:14            28 days 21:41:53   \n",
       "75%              92 days 02:37:52     88 days 05:03:02.500000   \n",
       "max             682 days 19:46:40          1027 days 08:22:00   \n",
       "\n",
       "             era3 - TIME_TO_FIRST  \n",
       "count                        4216  \n",
       "mean   46 days 17:24:24.718453510  \n",
       "std    86 days 22:47:30.603115715  \n",
       "min               0 days 09:38:05  \n",
       "25%        3 days 19:56:38.500000  \n",
       "50%              14 days 11:17:20  \n",
       "75%       48 days 16:50:04.250000  \n",
       "max            1438 days 05:14:42  "
      ]
     },
     "execution_count": 152,
     "metadata": {},
     "output_type": "execute_result"
    }
   ],
   "source": [
    "TTF.describe()"
   ]
  },
  {
   "cell_type": "code",
   "execution_count": 153,
   "id": "169223f7-4d5e-46d7-8006-bdeb5db39918",
   "metadata": {},
   "outputs": [
    {
     "data": {
      "text/html": [
       "<div>\n",
       "<style scoped>\n",
       "    .dataframe tbody tr th:only-of-type {\n",
       "        vertical-align: middle;\n",
       "    }\n",
       "\n",
       "    .dataframe tbody tr th {\n",
       "        vertical-align: top;\n",
       "    }\n",
       "\n",
       "    .dataframe thead th {\n",
       "        text-align: right;\n",
       "    }\n",
       "</style>\n",
       "<table border=\"1\" class=\"dataframe\">\n",
       "  <thead>\n",
       "    <tr style=\"text-align: right;\">\n",
       "      <th></th>\n",
       "      <th>era1 - TIME_TO_ACCEPT</th>\n",
       "      <th>era2 - TIME_TO_ACCEPT</th>\n",
       "      <th>era3 - TIME_TO_ACCEPT</th>\n",
       "    </tr>\n",
       "  </thead>\n",
       "  <tbody>\n",
       "    <tr>\n",
       "      <th>count</th>\n",
       "      <td>6301</td>\n",
       "      <td>1404</td>\n",
       "      <td>4216</td>\n",
       "    </tr>\n",
       "    <tr>\n",
       "      <th>mean</th>\n",
       "      <td>230 days 02:27:12.855102364</td>\n",
       "      <td>275 days 00:20:35.726495728</td>\n",
       "      <td>283 days 23:44:45.526565464</td>\n",
       "    </tr>\n",
       "    <tr>\n",
       "      <th>std</th>\n",
       "      <td>178 days 11:04:56.960755288</td>\n",
       "      <td>235 days 19:53:21.131715924</td>\n",
       "      <td>279 days 09:43:14.189177336</td>\n",
       "    </tr>\n",
       "    <tr>\n",
       "      <th>min</th>\n",
       "      <td>0 days 13:39:00</td>\n",
       "      <td>0 days 13:55:00</td>\n",
       "      <td>0 days 13:28:00</td>\n",
       "    </tr>\n",
       "    <tr>\n",
       "      <th>25%</th>\n",
       "      <td>77 days 11:40:00</td>\n",
       "      <td>108 days 06:17:45</td>\n",
       "      <td>84 days 13:08:30</td>\n",
       "    </tr>\n",
       "    <tr>\n",
       "      <th>50%</th>\n",
       "      <td>217 days 03:09:00</td>\n",
       "      <td>239 days 21:59:00</td>\n",
       "      <td>229 days 08:13:00</td>\n",
       "    </tr>\n",
       "    <tr>\n",
       "      <th>75%</th>\n",
       "      <td>314 days 19:53:00</td>\n",
       "      <td>356 days 15:03:00</td>\n",
       "      <td>358 days 02:06:45</td>\n",
       "    </tr>\n",
       "    <tr>\n",
       "      <th>max</th>\n",
       "      <td>1270 days 20:27:00</td>\n",
       "      <td>1496 days 23:18:00</td>\n",
       "      <td>2305 days 04:38:00</td>\n",
       "    </tr>\n",
       "  </tbody>\n",
       "</table>\n",
       "</div>"
      ],
      "text/plain": [
       "             era1 - TIME_TO_ACCEPT        era2 - TIME_TO_ACCEPT  \\\n",
       "count                         6301                         1404   \n",
       "mean   230 days 02:27:12.855102364  275 days 00:20:35.726495728   \n",
       "std    178 days 11:04:56.960755288  235 days 19:53:21.131715924   \n",
       "min                0 days 13:39:00              0 days 13:55:00   \n",
       "25%               77 days 11:40:00            108 days 06:17:45   \n",
       "50%              217 days 03:09:00            239 days 21:59:00   \n",
       "75%              314 days 19:53:00            356 days 15:03:00   \n",
       "max             1270 days 20:27:00           1496 days 23:18:00   \n",
       "\n",
       "             era3 - TIME_TO_ACCEPT  \n",
       "count                         4216  \n",
       "mean   283 days 23:44:45.526565464  \n",
       "std    279 days 09:43:14.189177336  \n",
       "min                0 days 13:28:00  \n",
       "25%               84 days 13:08:30  \n",
       "50%              229 days 08:13:00  \n",
       "75%              358 days 02:06:45  \n",
       "max             2305 days 04:38:00  "
      ]
     },
     "execution_count": 153,
     "metadata": {},
     "output_type": "execute_result"
    }
   ],
   "source": [
    "TTA.describe()"
   ]
  },
  {
   "cell_type": "code",
   "execution_count": 160,
   "id": "92b18c9a-071e-4329-8591-11432443b8e9",
   "metadata": {},
   "outputs": [
    {
     "data": {
      "text/plain": [
       "array([<Axes: xlabel='PTR_SEQ_NUM', ylabel='Frequency'>,\n",
       "       <Axes: xlabel='PTR_SEQ_NUM', ylabel='Frequency'>,\n",
       "       <Axes: xlabel='PTR_SEQ_NUM', ylabel='Frequency'>], dtype=object)"
      ]
     },
     "execution_count": 160,
     "metadata": {},
     "output_type": "execute_result"
    },
    {
     "data": {
      "image/png": "[encoded data removed]",
      "text/plain": [
       "<Figure size 640x480 with 3 Axes>"
      ]
     },
     "metadata": {},
     "output_type": "display_data"
    }
   ],
   "source": [
    "SEQ.plot(kind = 'hist', bins=200, xlabel='PTR_SEQ_NUM', xlim=(0, 5000) ,  subplots=True)"
   ]
  },
  {
   "cell_type": "markdown",
   "id": "c1c09f41-9def-4610-adb8-8ff71deeccc0",
   "metadata": {},
   "source": [
    "***"
   ]
  },
  {
   "cell_type": "code",
   "execution_count": 147,
   "id": "65c79eb4-8f6f-40e0-a2c1-82e4bf9f7a04",
   "metadata": {},
   "outputs": [],
   "source": [
    "chol['TIME_TO_FIRST'] = chol['TIME_TO_FIRST'].map(tot_secs)"
   ]
  },
  {
   "cell_type": "code",
   "execution_count": 148,
   "id": "5ffbe083-ff97-4dfc-a172-e19132fa942d",
   "metadata": {},
   "outputs": [],
   "source": [
    "chol['TIME_TO_ACCEPT'] = chol['TIME_TO_ACCEPT'].map(tot_secs)"
   ]
  },
  {
   "cell_type": "code",
   "execution_count": 149,
   "id": "f9844def-d2df-4494-be19-dedf1c70281f",
   "metadata": {},
   "outputs": [],
   "source": [
    "hcc.to_stata('HCC_COHORT.DTA', write_index=False)"
   ]
  },
  {
   "cell_type": "code",
   "execution_count": 150,
   "id": "a7e75cd4-a1e8-4b89-b24b-be8fb07cf3fb",
   "metadata": {},
   "outputs": [],
   "source": [
    "chol.to_stata('CHOL_COHORT.DTA', write_index=False)"
   ]
  },
  {
   "cell_type": "code",
   "execution_count": 76,
   "id": "54ef6792-ac3e-4b20-a4f6-8186197211c4",
   "metadata": {},
   "outputs": [],
   "source": [
    "#If were only looking at offers 2015+, issues w/ # of offers time to first offer  because many pts listed before 2015\n",
    "#were recieving offers before the period. Could always go back and pull their prev. ones too"
   ]
  },
  {
   "cell_type": "code",
   "execution_count": null,
   "id": "73333230-81df-43d5-8af2-52f1e09f69e7",
   "metadata": {},
   "outputs": [],
   "source": [
    "#Same deal with graft offers before acceptance. "
   ]
  },
  {
   "cell_type": "code",
   "execution_count": null,
   "id": "2c1a8aeb-7c1f-4aac-8bf6-206d68ec2784",
   "metadata": {},
   "outputs": [],
   "source": [
    "#Time to offer acceptance = (Listing date - final response time) for accepted offers? Or should it be \n",
    "#time of policy change - final response\n",
    "#What about people with no accepted offers?"
   ]
  },
  {
   "cell_type": "code",
   "execution_count": null,
   "id": "9bc43be5-77bc-4b20-83c0-a1a4db7c077e",
   "metadata": {},
   "outputs": [],
   "source": [
    "#For each pt - Median sequence number of all their offers during each period?"
   ]
  },
  {
   "cell_type": "code",
   "execution_count": null,
   "id": "343a38da-185b-4f9e-8f61-1a871a58a98b",
   "metadata": {},
   "outputs": [],
   "source": [
    "#I want to return a table of just patients with relevant PTR data extracted from it. "
   ]
  },
  {
   "cell_type": "code",
   "execution_count": null,
   "id": "99bb335d-440e-4131-a17a-8b256cb1a042",
   "metadata": {},
   "outputs": [],
   "source": [
    "#For each era calculate: offers recieved, time to first offer, time to final offer"
   ]
  },
  {
   "cell_type": "code",
   "execution_count": null,
   "id": "0c74d20d-922f-499e-a0c8-16bf393576c2",
   "metadata": {},
   "outputs": [],
   "source": []
  }
 ],
 "metadata": {
  "kernelspec": {
   "display_name": "Python 3 (ipykernel)",
   "language": "python",
   "name": "python3"
  },
  "language_info": {
   "codemirror_mode": {
    "name": "ipython",
    "version": 3
   },
   "file_extension": ".py",
   "mimetype": "text/x-python",
   "name": "python",
   "nbconvert_exporter": "python",
   "pygments_lexer": "ipython3",
   "version": "3.11.8"
  }
 },
 "nbformat": 4,
 "nbformat_minor": 5
}
